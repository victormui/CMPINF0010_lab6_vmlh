{
 "cells": [
  {
   "cell_type": "code",
   "execution_count": 1,
   "metadata": {},
   "outputs": [
    {
     "name": "stdin",
     "output_type": "stream",
     "text": [
      "Enter your name: Victor\n",
      "Enter your favorite food Sushi\n"
     ]
    },
    {
     "name": "stdout",
     "output_type": "stream",
     "text": [
      "VSushiiSushicSushitSushioSushirSushi\n"
     ]
    }
   ],
   "source": [
    "name = input('Enter your name:')\n",
    "food = input('Enter your favorite food')\n",
    "namefood = \"\"\n",
    "for name_letter in name:\n",
    "    namefood += name_letter\n",
    "    for food_letter in food:\n",
    "        namefood += food_letter\n",
    "    \n",
    "print(namefood)\n",
    "        \n"
   ]
  },
  {
   "cell_type": "code",
   "execution_count": null,
   "metadata": {},
   "outputs": [],
   "source": []
  }
 ],
 "metadata": {
  "kernelspec": {
   "display_name": "Python 3",
   "language": "python",
   "name": "python3"
  },
  "language_info": {
   "codemirror_mode": {
    "name": "ipython",
    "version": 3
   },
   "file_extension": ".py",
   "mimetype": "text/x-python",
   "name": "python",
   "nbconvert_exporter": "python",
   "pygments_lexer": "ipython3",
   "version": "3.8.3"
  }
 },
 "nbformat": 4,
 "nbformat_minor": 4
}
